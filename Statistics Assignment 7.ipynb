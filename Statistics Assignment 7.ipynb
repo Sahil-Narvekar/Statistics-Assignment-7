{
 "cells": [
  {
   "cell_type": "code",
   "execution_count": null,
   "metadata": {},
   "outputs": [],
   "source": [
    "1. A spam filter is designed by looking at commonly occurring phrases in spam. Suppose that\n",
    "80% of email is spam. In 10% of the spam emails, the phrase “free money” is used, whereas\n",
    "this phrase is only used in 1% of non-spam emails. A new email has just arrived, which does\n",
    "mention “free money”. What is the probability that it is spam?"
   ]
  },
  {
   "cell_type": "code",
   "execution_count": null,
   "metadata": {},
   "outputs": [],
   "source": [
    "x- mail is spam\n",
    "y-mail is not spam\n",
    "f-free money word is used\n",
    "P(x/f)=P(f/x)*P(x)/P(f)\n",
    "\n",
    "P(f)=P(f/x)*P(x)+P(f/y)*P(y)\n",
    "P(f)=0.1*0.8+0.01*0.2\n",
    "P(x/f)=P(f/x)*P(x)/P(f)\n",
    "P(x/f)=0.1*0.8/(0.1*0.8+0.01*0.2)\n",
    "P(x/f)=80/82"
   ]
  }
 ],
 "metadata": {
  "kernelspec": {
   "display_name": "Python 3",
   "language": "python",
   "name": "python3"
  },
  "language_info": {
   "codemirror_mode": {
    "name": "ipython",
    "version": 3
   },
   "file_extension": ".py",
   "mimetype": "text/x-python",
   "name": "python",
   "nbconvert_exporter": "python",
   "pygments_lexer": "ipython3",
   "version": "3.8.3"
  }
 },
 "nbformat": 4,
 "nbformat_minor": 4
}
